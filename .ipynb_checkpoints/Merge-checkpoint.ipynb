{
 "cells": [
  {
   "cell_type": "code",
   "execution_count": 111,
   "metadata": {},
   "outputs": [],
   "source": [
    "import numpy as np\n",
    "import pandas as pd\n",
    "import matplotlib.pyplot as plt\n",
    "import seaborn as sns\n",
    "import statsmodels.api as sm\n",
    "\n",
    "pd.options.display.max_rows = 999\n",
    "pd.options.display.max_columns = 999"
   ]
  },
  {
   "cell_type": "code",
   "execution_count": 112,
   "metadata": {},
   "outputs": [],
   "source": [
    "data1 = pd.read_csv(\"data-world-happiness/2015.csv\")\n",
    "data2 = pd.read_csv(\"data-world-happiness/2016.csv\")\n",
    "data3 = pd.read_csv(\"data-world-happiness/2017.csv\")\n",
    "data4 = pd.read_csv(\"data-world-happiness/2018.csv\")\n",
    "data5 = pd.read_csv(\"data-world-happiness/2019.csv\")"
   ]
  },
  {
   "cell_type": "code",
   "execution_count": 113,
   "metadata": {},
   "outputs": [],
   "source": [
    "data1 = data1.assign(Year = 2015)\n",
    "data2 = data2.assign(Year = 2016)\n",
    "data3 = data3.assign(Year = 2017)\n",
    "data4 = data4.assign(Year = 2018)\n",
    "data5 = data5.assign(Year = 2019)"
   ]
  },
  {
   "cell_type": "code",
   "execution_count": 114,
   "metadata": {},
   "outputs": [],
   "source": [
    "data1 = data1.drop([\"Standard Error\", \"Dystopia Residual\"], 1)\n",
    "data2 = data2.drop([\"Dystopia Residual\", \"Lower Confidence Interval\", \"Upper Confidence Interval\"], 1)\n",
    "data3 = data3.drop([\"Dystopia.Residual\", \"Whisker.high\", \"Whisker.low\"], 1)"
   ]
  },
  {
   "cell_type": "code",
   "execution_count": 115,
   "metadata": {},
   "outputs": [],
   "source": [
    "data3.rename(columns = {'Happiness.Rank':'Happiness Rank',\n",
    "                        'Happiness.Score':'Happiness Score',\n",
    "                        'Trust..Government.Corruption.':'Trust (Government Corruption)',\n",
    "                        'Health..Life.Expectancy.':'Health (Life Expectancy)',\n",
    "                        'Economy..GDP.per.Capita.':'Economy (GDP per Capita)'\n",
    "                       }, inplace = True)\n",
    "\n",
    "data4.rename(columns = {'Country or region':'Country',\n",
    "                        'Score':'Happiness Score',\n",
    "                        'GDP per capita':'Economy (GDP per Capita)',\n",
    "                        'Healthy life expectancy':'Health (Life Expectancy)',\n",
    "                        'Perceptions of corruption':'Trust (Government Corruption)',\n",
    "                        'Freedom to make life choices':'Freedom',\n",
    "                        'Overall rank':'Happiness Rank',\n",
    "                        'Social support':'Family'\n",
    "                       }, inplace = True)\n",
    "\n",
    "data5.rename(columns = {'Country or region':'Country',\n",
    "                        'Score':'Happiness Score',\n",
    "                        'GDP per capita':'Economy (GDP per Capita)',\n",
    "                        'Healthy life expectancy':'Health (Life Expectancy)',\n",
    "                        'Perceptions of corruption':'Trust (Government Corruption)',\n",
    "                        'Freedom to make life choices':'Freedom',\n",
    "                        'Overall rank':'Happiness Rank',\n",
    "                        'Social support':'Family'\n",
    "                       }, inplace = True)"
   ]
  },
  {
   "cell_type": "code",
   "execution_count": 116,
   "metadata": {},
   "outputs": [],
   "source": [
    "data3=pd.merge(data3, data1[[\"Country\", \"Region\"]], how=\"left\", on=\"Country\")\n",
    "data4=pd.merge(data4, data1[[\"Country\", \"Region\"]], how=\"left\", on=\"Country\")\n",
    "data5=pd.merge(data5, data1[[\"Country\", \"Region\"]], how=\"left\", on=\"Country\")"
   ]
  },
  {
   "cell_type": "code",
   "execution_count": 117,
   "metadata": {},
   "outputs": [],
   "source": [
    "merged_df= pd.DataFrame()\n",
    "merged_df = pd.concat([merged_df, data1], sort='False')\n",
    "merged_df = pd.concat([merged_df, data2], sort='False')\n",
    "merged_df = pd.concat([merged_df, data3], sort='False')\n",
    "merged_df = pd.concat([merged_df, data4], sort='False')\n",
    "merged_df = pd.concat([merged_df, data5], sort='False')"
   ]
  },
  {
   "cell_type": "code",
   "execution_count": 118,
   "metadata": {},
   "outputs": [],
   "source": [
    "regions={\n",
    "    \"Taiwan Province of China\": \"Eastern Asia\",\n",
    "    \"Hong Kong S.A.R., China\":\"Eastern Asia\",\n",
    "    \"Belize\": \"Latin America and Caribbean\",\n",
    "    \"Trinidad & Tobago\":\"Latin America and Caribbean\",\n",
    "    \"Northern Cyprus\": \"Western Europe\",\n",
    "    \"North Macedonia\": \"Central and Eastern Europe\",\n",
    "    \"Gambia\": \"Sub-Saharan Africa\",\n",
    "    \"Somalia\": \"Sub-Saharan Africa\",\n",
    "    \"South Sudan\": \"Sub-Saharan Africa\",\n",
    "    \"Namibia\": \"Sub-Saharan Africa\",\n",
    "}"
   ]
  },
  {
   "cell_type": "code",
   "execution_count": 119,
   "metadata": {},
   "outputs": [],
   "source": [
    "merged_df.Region = np.where(merged_df.Region.isna(),merged_df.Country.map(regions),merged_df.Region)"
   ]
  },
  {
   "cell_type": "code",
   "execution_count": 120,
   "metadata": {},
   "outputs": [
    {
     "data": {
      "text/plain": [
       "array(['Western Europe', 'North America', 'Australia and New Zealand',\n",
       "       'Middle East and Northern Africa', 'Latin America and Caribbean',\n",
       "       'Southeastern Asia', 'Central and Eastern Europe', 'Eastern Asia',\n",
       "       'Sub-Saharan Africa', 'Southern Asia'], dtype=object)"
      ]
     },
     "execution_count": 120,
     "metadata": {},
     "output_type": "execute_result"
    }
   ],
   "source": [
    "merged_df.Region.unique()"
   ]
  },
  {
   "cell_type": "code",
   "execution_count": 121,
   "metadata": {},
   "outputs": [
    {
     "data": {
      "text/plain": [
       "Country                          0.000000\n",
       "Economy (GDP per Capita)         0.000000\n",
       "Family                           0.000000\n",
       "Freedom                          0.000000\n",
       "Generosity                       0.000000\n",
       "Happiness Rank                   0.000000\n",
       "Happiness Score                  0.000000\n",
       "Health (Life Expectancy)         0.000000\n",
       "Region                           0.000000\n",
       "Trust (Government Corruption)    0.001279\n",
       "Year                             0.000000\n",
       "dtype: float64"
      ]
     },
     "execution_count": 121,
     "metadata": {},
     "output_type": "execute_result"
    }
   ],
   "source": [
    "merged_df.isna().sum()/len(merged_df)"
   ]
  },
  {
   "cell_type": "code",
   "execution_count": 122,
   "metadata": {},
   "outputs": [],
   "source": [
    "merged_df.to_csv(\"merged.csv\")"
   ]
  },
  {
   "cell_type": "code",
   "execution_count": null,
   "metadata": {},
   "outputs": [],
   "source": []
  }
 ],
 "metadata": {
  "kernelspec": {
   "display_name": "Python 3.7.5 64-bit ('code_red': conda)",
   "language": "python",
   "name": "python37564bitcoderedcondab28c1fa4e0f54e2e8185e1015ebf71fb"
  },
  "language_info": {
   "codemirror_mode": {
    "name": "ipython",
    "version": 3
   },
   "file_extension": ".py",
   "mimetype": "text/x-python",
   "name": "python",
   "nbconvert_exporter": "python",
   "pygments_lexer": "ipython3",
   "version": "3.7.5"
  }
 },
 "nbformat": 4,
 "nbformat_minor": 2
}
